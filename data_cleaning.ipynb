{
 "cells": [
  {
   "cell_type": "code",
   "execution_count": 1,
   "metadata": {},
   "outputs": [],
   "source": [
    "import json\n",
    "import ijson\n",
    "import pandas as pd"
   ]
  },
  {
   "cell_type": "code",
   "execution_count": 2,
   "metadata": {},
   "outputs": [],
   "source": [
    "# Load the business dataset into json\n",
    "with open('yelp_dataset/yelp_academic_dataset_business.json', encoding = 'utf-8') as json_file:\n",
    "    data = json_file.readlines()\n",
    "    data = list(map(json.loads, data))"
   ]
  },
  {
   "cell_type": "code",
   "execution_count": 3,
   "metadata": {},
   "outputs": [],
   "source": [
    "# Load the json into Pandas\n",
    "business = pd.io.json.json_normalize(data)"
   ]
  },
  {
   "cell_type": "code",
   "execution_count": null,
   "metadata": {},
   "outputs": [],
   "source": [
    "list_of_cities = list(pd.unique(business.city))\n",
    "list_of_cities.sort()\n",
    "list_of_cities"
   ]
  },
  {
   "cell_type": "code",
   "execution_count": 4,
   "metadata": {},
   "outputs": [
    {
     "data": {
      "text/plain": [
       "0               Cornelius\n",
       "1              Scottsdale\n",
       "2                Montreal\n",
       "3         North Las Vegas\n",
       "4                    Mesa\n",
       "5                 Gilbert\n",
       "6               Las Vegas\n",
       "7                    Mesa\n",
       "8               Champaign\n",
       "9                 Toronto\n",
       "10                Calgary\n",
       "11             Pittsburgh\n",
       "12              Middleton\n",
       "13               Chandler\n",
       "14        North Las Vegas\n",
       "15              Henderson\n",
       "16              Las Vegas\n",
       "17                  Tempe\n",
       "18              Rock Hill\n",
       "19                   Mesa\n",
       "20              Charlotte\n",
       "21               Glendale\n",
       "22           Huntersville\n",
       "23               Gastonia\n",
       "24                 Aurora\n",
       "25              Thornhill\n",
       "26                Toronto\n",
       "27              Charlotte\n",
       "28                Phoenix\n",
       "29                Toronto\n",
       "               ...       \n",
       "209363            Calgary\n",
       "209364          Charlotte\n",
       "209365            Toronto\n",
       "209366        Valley View\n",
       "209367          Las Vegas\n",
       "209368          Las Vegas\n",
       "209369          Las Vegas\n",
       "209370           Kirkland\n",
       "209371          Las Vegas\n",
       "209372          Las Vegas\n",
       "209373            Chander\n",
       "209374            Toronto\n",
       "209375          Las Vegas\n",
       "209376            Gilbert\n",
       "209377            Toronto\n",
       "209378         Scottsdale\n",
       "209379      Richmond Hill\n",
       "209380            Phoenix\n",
       "209381            Madison\n",
       "209382          Las Vegas\n",
       "209383      North Olmsted\n",
       "209384             Tempe \n",
       "209385          Charlotte\n",
       "209386          Las Vegas\n",
       "209387            Calgary\n",
       "209388            Vaughan\n",
       "209389          Charlotte\n",
       "209390         Scottsdale\n",
       "209391       Indian Trail\n",
       "209392            Toronto\n",
       "Name: city, Length: 209393, dtype: object"
      ]
     },
     "execution_count": 4,
     "metadata": {},
     "output_type": "execute_result"
    }
   ],
   "source": [
    "# For heaven's sake please spell Phoenix prroperly thank youo\n",
    "business.city.str.replace('Phenoix', 'Phoenix')\n",
    "business.city.str.replace('Phenoix AZ', 'Phoenix')\n",
    "business.city.str.replace('Phoeniix', 'Phoenix')\n",
    "business.city.str.replace('Phoenix ', 'Phoenix')\n",
    "business.city.str.replace('Phoenix AZ', 'Phoenix')\n",
    "business.city.str.replace('Phoenix Metro Area', 'Phoenix')\n",
    "business.city.str.replace('Phoenix,', 'Phoenix')\n",
    "business.city.str.replace('Phoenix, AZ', 'Phoenix')\n",
    "business.city.str.replace('Phoneix', 'Phoenix')\n",
    "business.city.str.replace('Phonenix', 'Phoenix')\n",
    "business.city.str.replace('Phoniex', 'Phoenix')"
   ]
  },
  {
   "cell_type": "code",
   "execution_count": null,
   "metadata": {},
   "outputs": [],
   "source": [
    "# Apply filters: Note: these filters can be adjusted\n",
    "filters = (business.state == \"AZ\") & (business.city == \"Phoenix\") # Phoneix, Arizona\n",
    "filters = filters & (business.categories.str.contains('Restaurants')) # Restaurants only\n",
    "phoenix_business = business[filters]"
   ]
  },
  {
   "cell_type": "code",
   "execution_count": null,
   "metadata": {},
   "outputs": [],
   "source": [
    "columns_to_keep = ['business_id', 'name', 'latitude', 'longitude', 'address', 'city', 'state', 'stars', 'review_count', 'is_open']\n",
    "phoenix_business = phoenix_business[columns_to_keep]\n",
    "phoenix_business"
   ]
  },
  {
   "cell_type": "code",
   "execution_count": null,
   "metadata": {},
   "outputs": [],
   "source": [
    "phoenix_business.to_json('yelp_dataset/phoenix_restaurants.json', orient = 'records')"
   ]
  },
  {
   "cell_type": "code",
   "execution_count": 5,
   "metadata": {},
   "outputs": [],
   "source": [
    "# Create dataset for all restaurants in the United States\n",
    "rest_filter = business.categories.str.contains('Restaurants', na=False)\n",
    "restaurants = business[rest_filter]"
   ]
  },
  {
   "cell_type": "code",
   "execution_count": 6,
   "metadata": {},
   "outputs": [],
   "source": [
    "columns_to_keep = ['business_id', 'name', 'latitude', 'longitude', 'address', 'city', 'state', 'stars', 'review_count', 'is_open']\n",
    "restaurants = restaurants[columns_to_keep]"
   ]
  },
  {
   "cell_type": "code",
   "execution_count": 8,
   "metadata": {},
   "outputs": [],
   "source": [
    "us_states = [\"AL\", \"AK\", \"AZ\", \"AR\", \"CA\", \"CO\", \"CT\", \"DC\", \"DE\", \"FL\", \"GA\", \n",
    "          \"HI\", \"ID\", \"IL\", \"IN\", \"IA\", \"KS\", \"KY\", \"LA\", \"ME\", \"MD\", \n",
    "          \"MA\", \"MI\", \"MN\", \"MS\", \"MO\", \"MT\", \"NE\", \"NV\", \"NH\", \"NJ\", \n",
    "          \"NM\", \"NY\", \"NC\", \"ND\", \"OH\", \"OK\", \"OR\", \"PA\", \"RI\", \"SC\", \n",
    "          \"SD\", \"TN\", \"TX\", \"UT\", \"VT\", \"VA\", \"WA\", \"WV\", \"WI\", \"WY\"]\n",
    "restaurants = restaurants[restaurants.state.isin(us_states)]"
   ]
  },
  {
   "cell_type": "code",
   "execution_count": 9,
   "metadata": {},
   "outputs": [],
   "source": [
    "restaurants.to_json('yelp_dataset/restaurants.json', orient = 'records')\n",
    "restaurants.to_csv('yelp_dataset/restaurants.csv')"
   ]
  },
  {
   "cell_type": "code",
   "execution_count": null,
   "metadata": {},
   "outputs": [],
   "source": []
  }
 ],
 "metadata": {
  "kernelspec": {
   "display_name": "Python 3",
   "language": "python",
   "name": "python3"
  },
  "language_info": {
   "codemirror_mode": {
    "name": "ipython",
    "version": 3
   },
   "file_extension": ".py",
   "mimetype": "text/x-python",
   "name": "python",
   "nbconvert_exporter": "python",
   "pygments_lexer": "ipython3",
   "version": "3.7.2"
  }
 },
 "nbformat": 4,
 "nbformat_minor": 2
}
